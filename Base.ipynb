{
 "cells": [
  {
   "cell_type": "code",
   "execution_count": null,
   "metadata": {},
   "outputs": [],
   "source": [
    "from savva3.models import Setting"
   ]
  },
  {
   "cell_type": "code",
   "execution_count": null,
   "metadata": {},
   "outputs": [],
   "source": [
    "a=Setting.objects.all()"
   ]
  },
  {
   "cell_type": "code",
   "execution_count": null,
   "metadata": {},
   "outputs": [],
   "source": [
    "c={}\n",
    "for b in a:\n",
    "    c[b.key]=b.value"
   ]
  },
  {
   "cell_type": "code",
   "execution_count": null,
   "metadata": {},
   "outputs": [],
   "source": []
  },
  {
   "cell_type": "code",
   "execution_count": null,
   "metadata": {},
   "outputs": [],
   "source": [
    "from base.models import *"
   ]
  },
  {
   "cell_type": "code",
   "execution_count": null,
   "metadata": {},
   "outputs": [],
   "source": []
  },
  {
   "cell_type": "code",
   "execution_count": null,
   "metadata": {},
   "outputs": [],
   "source": [
    "area=Area.objects.first()"
   ]
  },
  {
   "cell_type": "code",
   "execution_count": null,
   "metadata": {},
   "outputs": [],
   "source": [
    "v=Url.objects.first()\n",
    "for x in v.areas.all():\n",
    "    x"
   ]
  },
  {
   "cell_type": "code",
   "execution_count": null,
   "metadata": {},
   "outputs": [],
   "source": [
    "#URL COPY\n",
    "query=Url.objects.all()\n",
    "videos=query.filter(url__contains='watch')\n",
    "for video in videos:\n",
    "    print(video.url)\n",
    "    n=Video()\n",
    "    n.url=video.url\n",
    "    n.title=video.title\n",
    "    n.descrtiption=video.description\n",
    "    n._keywords=video.keywords_string\n",
    "    n.save()\n",
    "    for area in video.areas.all():\n",
    "        n.areas.add(area)\n",
    "    n.save()"
   ]
  },
  {
   "cell_type": "code",
   "execution_count": null,
   "metadata": {},
   "outputs": [],
   "source": [
    "#SET AUTHOR\n",
    "author=Author.objects.get(last_name__contains=\"Сав\")\n",
    "print(author)\n",
    "for video in Video.objects.all():\n",
    "    video.authors.add(author)"
   ]
  },
  {
   "cell_type": "code",
   "execution_count": null,
   "metadata": {
    "scrolled": true
   },
   "outputs": [],
   "source": [
    "a=Area.objects.select_related('')\n",
    "print(a.query)"
   ]
  },
  {
   "cell_type": "code",
   "execution_count": null,
   "metadata": {},
   "outputs": [],
   "source": [
    "Area.objects.values_list()\n",
    "vid=Video.objects.values_list('id')\n",
    "Relation=Video.areas.through\n",
    "r=Relation.objects.values_list('resource_id')\n",
    "x=r.intersection(vid)\n",
    "print(x.query)"
   ]
  },
  {
   "cell_type": "markdown",
   "metadata": {},
   "source": [
    "\n",
    "\n",
    "\n",
    "Пытаемся сделать выборку объектов Area, которые FK в таблице base_resource_areas, которые имеют FK в таблице base_video"
   ]
  },
  {
   "cell_type": "code",
   "execution_count": 359,
   "metadata": {},
   "outputs": [
    {
     "name": "stdout",
     "output_type": "stream",
     "text": [
      "SELECT \"base_area\".\"id\", \"base_area\".\"name\", \"base_area\".\"title\" FROM \"base_area\" WHERE NOT (\"base_area\".\"id\" IN (SELECT U0.\"id\" FROM \"base_area\" U0 LEFT OUTER JOIN \"base_resource_areas\" U1 ON (U0.\"id\" = U1.\"area_id\") LEFT OUTER JOIN \"base_resource\" U2 ON (U1.\"resource_id\" = U2.\"id\") LEFT OUTER JOIN \"base_video\" U3 ON (U2.\"id\" = U3.\"resource_ptr_id\") WHERE U3.\"resource_ptr_id\" IS NULL))\n"
     ]
    }
   ],
   "source": [
    "qs1=Area.objects.exclude(resource__video__isnull=True)\n",
    "print(qs1.query)"
   ]
  }
 ],
 "metadata": {
  "kernelspec": {
   "display_name": "Django Shell-Plus",
   "language": "python",
   "name": "django_extensions"
  },
  "language_info": {
   "codemirror_mode": {
    "name": "ipython",
    "version": 3
   },
   "file_extension": ".py",
   "mimetype": "text/x-python",
   "name": "python",
   "nbconvert_exporter": "python",
   "pygments_lexer": "ipython3",
   "version": "3.7.0"
  }
 },
 "nbformat": 4,
 "nbformat_minor": 2
}
