{
 "cells": [
  {
   "cell_type": "code",
   "execution_count": 4,
   "metadata": {},
   "outputs": [],
   "source": [
    "from base.models import Url"
   ]
  },
  {
   "cell_type": "code",
   "execution_count": 6,
   "metadata": {},
   "outputs": [
    {
     "data": {
      "text/plain": [
       "<QuerySet [<Url: Онлайн-образование для школьников - Дети и наука>, <Url: Наук царица. Наук служанка...>, <Url: Жостово 01/04/2017>, <Url: Российский центр науки и культуры в Астане>, <Url: «Профанации будет всё больше, шарлатанов и психов – тоже». Беседа двух математиков о математике - KYKY.ORG>, <Url: Диофантовы уравнения | Видеолекции Физтеха: Лекторий МФТИ - видеолекции по физике, математике, биологии, биоинформатике, информатике и другим дисциплинам>, <Url: Савватеев Алексей Владимирович | Видеолекции Физтеха: Лекторий МФТИ - видеолекции по физике, математике, биологии, биоинформатике, информатике и другим дисциплинам>, <Url: 12 :>, <Url: Как Тверь стала центром просвещения в эпоху Екатерины Второй | Мел>, <Url: Интеллектуальный спецназ -  Радио Медиаметрикс - Москва>, <Url: В Университете Димитрия Пожарского будут готовить «интеллектуальный спецназ»>, <Url: Группы и геометрия>, <Url: Линал и матан>, <Url: Лекции на сайте УДП>, <Url: Караван +Я / Новости>, <Url: Основные теоремы теории игр>, <Url: Образование может быть только фундаментальным / Образование / Независимая газета>, <Url: Насколько может быть свободна профессура от государства / Образование / Независимая газета>, <Url: Радио России>, <Url: Наука: 10 главных игр, в которые математики играют с нашим умом и совестью>, '...(remaining elements truncated)...']>"
      ]
     },
     "execution_count": 6,
     "metadata": {},
     "output_type": "execute_result"
    }
   ],
   "source": [
    "Url.objects.all()"
   ]
  },
  {
   "cell_type": "code",
   "execution_count": 4,
   "metadata": {},
   "outputs": [],
   "source": [
    "from django.db import models"
   ]
  },
  {
   "cell_type": "code",
   "execution_count": 2,
   "metadata": {},
   "outputs": [],
   "source": [
    "from jokes.forms import *"
   ]
  },
  {
   "cell_type": "code",
   "execution_count": null,
   "metadata": {},
   "outputs": [],
   "source": [
    "from jokes.form"
   ]
  },
  {
   "cell_type": "code",
   "execution_count": null,
   "metadata": {},
   "outputs": [],
   "source": []
  }
 ],
 "metadata": {
  "kernelspec": {
   "display_name": "Django Shell-Plus",
   "language": "python",
   "name": "django_extensions"
  },
  "language_info": {
   "codemirror_mode": {
    "name": "ipython",
    "version": 3
   },
   "file_extension": ".py",
   "mimetype": "text/x-python",
   "name": "python",
   "nbconvert_exporter": "python",
   "pygments_lexer": "ipython3",
   "version": "3.7.0"
  }
 },
 "nbformat": 4,
 "nbformat_minor": 2
}
