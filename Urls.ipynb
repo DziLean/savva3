{
 "cells": [
  {
   "cell_type": "code",
   "execution_count": 6,
   "metadata": {},
   "outputs": [],
   "source": [
    "import requests\n",
    "from bs4 import BeautifulSoup as bs"
   ]
  },
  {
   "cell_type": "code",
   "execution_count": 29,
   "metadata": {},
   "outputs": [
    {
     "data": {
      "text/plain": [
       "requests.exceptions.Timeout"
      ]
     },
     "execution_count": 29,
     "metadata": {},
     "output_type": "execute_result"
    }
   ],
   "source": [
    "requests.Timeout"
   ]
  },
  {
   "cell_type": "code",
   "execution_count": 31,
   "metadata": {},
   "outputs": [
    {
     "data": {
      "text/plain": [
       " <?xml version=\"1.0\" encoding=\"utf-8\"?>\n",
       "<!DOCTYPE html PUBLIC \"-//WAPFORUM//DTD XHTML Mobile 1.0//EN\" \"http://www.wapforum.org/DTD/xhtml-mobile10.dtd\">\n",
       "\n",
       "<html class=\"vk vk_js_no vk_flex_no r d h vk_appAuth_no\" xmlns=\"http://www.w3.org/1999/xhtml\">\n",
       "<head>\n",
       "<meta content=\"width=device-width, initial-scale=1.0, minimum-scale=1.0, maximum-scale=1.0, user-scalable=no\" name=\"viewport\"/>\n",
       "<meta content=\"text/html; charset=utf-8\" http-equiv=\"content-type\"/>\n",
       "<meta content=\"telephone=no\" name=\"format-detection\"/>\n",
       "<meta content=\"IE=edge\" http-equiv=\"X-UA-Compatible\"/>\n",
       "<meta content=\"176\" name=\"MobileOptimized\"/>\n",
       "<meta content=\"True\" name=\"HandheldFriendly\"/>\n",
       "<meta content=\"#5181b8\" name=\"theme-color\"/>\n",
       "<base id=\"base\"/>\n",
       "<meta content=\"noindex,nofollow\" name=\"robots\"/>\n",
       "<title>Видеозапись</title>\n",
       "<link href=\"/images/icons/favicons/fav_logo.ico?8\" rel=\"shortcut icon\"/>\n",
       "<script>\n",
       "          (function() {\n",
       "            window.isMVK = true;\n",
       "            window.isNewMail = false;\n",
       "            window.isNewLongpoll = false;\n",
       "            window.audioSubscribe = false;\n",
       "            window.isArticleWebView = false;\n",
       "\n",
       "            var vkElem = document.querySelector('.vk');\n",
       "            var vkClass = vkElem.getAttribute('class');\n",
       "\n",
       "            var supports = {\n",
       "              js: true,\n",
       "              flex: window.CSS && CSS.supports && (\n",
       "                CSS.supports('display', 'flex') ||\n",
       "                CSS.supports('display', '-webkit-flex') ||\n",
       "                CSS.supports('display', '-ms-flexbox')\n",
       "              )\n",
       "            };\n",
       "\n",
       "            supports.js && (vkClass = vkClass.replace('vk_js_no', 'vk_js_yes'));\n",
       "            supports.flex && (vkClass = vkClass.replace('vk_flex_no', 'vk_flex_yes'));\n",
       "            vkElem.setAttribute('class', vkClass);\n",
       "          })();\n",
       "        </script>\n",
       "<script type=\"text/javascript\">\n",
       "<!--\n",
       "    (function(k,a,d,e,f){function l(){var c=function(){var b=!1;try{b=new XMLHttpRequest}catch(a){try{b=new ActiveXObject(\"Msxml2.XMLHTTP\")}catch(d){try{b=new ActiveXObject(\"Microsoft.XMLHTTP\")}catch(c){b=!1}}}return b?e:f}(),g=function(){var b=k.createElement(\"div\");b.innerHTML='<input type=\"file\" />';b=b.getElementsByTagName(\"input\")[0];return\"file\"!=b.type||b.disabled?f:e}(),h=\"ontouchstart\"in a?e:f,m;try{m=typeof navigator.geolocation!==d?e:typeof a.google!==d&&typeof google.gears!==d?e:typeof device!==d&&typeof device.getServiceObject!==d?e:typeof Mojo!==d&&\"Mojo.Service.Request\"!==typeof Mojo.Service.Request?e:f}catch(p){m=f}var l=function(b){try{var d=a.Audio?new Audio:k.createElement(\"audio\");if(d.canPlayType&&d.canPlayType(b)&&\"no\"!=d.canPlayType(b))return e}catch(c){}return f}(\"audio/mpeg\"),n=function(b){try{for(var a=k.createElement(\"div\"),c=0,g=[\"webkit\",\"Moz\",\"ms\",\"O\",\"\"],h=g.length;c<h;c++){var l=g[c],m=l?l+b:b.toLowerCase();if(typeof a.style[m]!==d)return e}return f}catch(n){return f}}(\"Transform\");return c+g+h+m+l+n+((a.XMLHttpRequest||a.XDomainRequest)&&(a.FormData||a.FileReader&&(a.XMLHttpRequest&&XMLHttpRequest.sendAsBinary||a.ArrayBuffer&&a.Uint8Array&&(a.MozBlobBuilder||a.WebKitBlobBuilder||a.BlobBuilder)))?e:f)}var c=a.screen,g=c.width||0,c=c.height||0,n=a.devicePixelRatio||1,p=(k.cookie.match(/(^|;\\s+)remixmdevice=([^;]+)/)||[])[2]||\"\",h=p.split(\"/\");p&&g==h[0]&&c==h[1]&&7==h[3].length||(g=[g,c,n,l()].join(\"/\"),k.cookie=\"remixmdevice=; expires=\"+(new Date(0)).toUTCString()+\"; path=/\",k.cookie=\"remixmdevice=\"+g+\"; expires=\"+(new Date((new Date).getTime()+7776E6)).toUTCString()+\"; path=/; domain=.vk.com\",(location.search.indexOf('?mode=standalone')!==0&&k.cookie!==\"\")&&location.replace(location.toString()))})(document,window,\"undefined\",\"!\",\"-\");!function(o,a){var e=o.hash||\"\",t=e.substr(2);if(\"#/\"==e.substr(0,2)){var i=window.locDomain,n=new Date;n.setTime(n.getTime()+864e5);var r=\"; expires=\"+n.toGMTString();document.cookie=[\"remixtmp_hash_nav\",\"=\",o.href,r,\"; path=/\",i?\"; domain=.\"+i:\"\"].join(\"\"),!a&&(t.match(/^\\/*(away|login)(\\.php)?([^a-z0-9\\.]|$)/)&&(t=\"\"),o.replace(o.protocol+\"//\"+o.host+\"/\"+t))}}(location);\n",
       "//-->\n",
       "</script>\n",
       "<link href=\"/css/mobile/common.css?1918539474\" media=\"\" rel=\"stylesheet\" type=\"text/css\"/>\n",
       "<script src=\"/js/s_z.js?2\" type=\"text/javascript\"></script>\n",
       "<link href=\"https://vk.com/video8733459_456239420\" rel=\"canonical\"/>\n",
       "<link href=\"android-app://com.vkontakte.android/vkontakte/m.vk.com/video8733459_456239420\" rel=\"alternate\"/>\n",
       "</head>\n",
       "<body class=\"vk__page _hover vk_ios_no vk_stickers_hints_support_no opera_mini_no vk_safari_no vk_al_no\">\n",
       "<div class=\"layout\">\n",
       "<div class=\"layout__header mhead\" id=\"vk_head\">\n",
       "<div class=\"hb_wrap\">\n",
       "<div class=\"hb_btn\"> </div>\n",
       "</div>\n",
       "</div>\n",
       "<div class=\"layout__body \" id=\"vk_wrap\">\n",
       "<div class=\"layout__leftMenu\" id=\"l\">\n",
       "</div>\n",
       "<div class=\"layout__basis\" id=\"m\">\n",
       "<div class=\"basis\">\n",
       "<div class=\"basis__header mhead\" id=\"mhead\"> <a accesskey=\"*\" aria-label=\"Меню\" class=\"header__left hb_wrap mhb_home mhb_vkhome\" href=\"/\">\n",
       "<div class=\"hb_btn mhi_home mhi_vkhome\"> </div>\n",
       "</a>\n",
       "<h1 class=\"header__center hb_wrap mhb_back \">\n",
       "<a accesskey=\"0\" aria-label=\"Видеозапись\" class=\"header__back al_back mh\" href=\"/videos8733459\" title=\"Назад\"></a>\n",
       "<span aria-hidden=\"true\" class=\"header__title hb_btn mh_header mhi_back\">Видеозапись</span>\n",
       "</h1>\n",
       "<a accesskey=\"#\" class=\"hb_wrap mhb_notify\" href=\"/login?to=dmlkZW84NzMzNDU5XzQ1NjIzOTQyMD9saXN0PWYyMWM3MWJkYzI2NjZkZDA3YiUyRnBsXzg3MzM0NTlfLTI-\">\n",
       "<div class=\"hb_btn\">\n",
       "<em class=\"mh_btn_label\">войти</em>\n",
       "</div>\n",
       "</a>\n",
       "</div>\n",
       "<div class=\"basis__content mcont\" data-canonical=\"https://vk.com/video8733459_456239420\" id=\"mcont\"><div class=\"pcont\">\n",
       "<div class=\"media_view video_view\">\n",
       "<div class=\"vv_summary\">Алексей Савватеев \"Можно ли увидеть одновременно Черное и Каспийское море\"</div>\n",
       "<div class=\"vv_body\"><iframe allowfullscreen=\"1\" class=\"vv_inline_video\" frameborder=\"0\" height=\"99\" src=\"//www.youtube.com/embed/a45_zbyrWys?autoplay=0&amp;autohide=1&amp;wmode=opaque&amp;showinfo=0\" type=\"text/html\" width=\"100%\"></iframe></div>\n",
       "<div class=\"like_box bl_cont\">\n",
       "<div class=\"mv_details\">\n",
       "<div class=\"mv_description\">Популяризатор математики Алексей Савватеев о книге \"Математика для гуманитариев. Живые лекции\"<br/><a href=\"/away.php?to=http%3A%2F%2Fpublisher.usdp.ru%2Fcatalog%2F552.html\" target=\"_blank\">http://publisher.usdp.ru/catalog/552.html</a><br/></div>\n",
       "<div class=\"vv_views\"><b>41</b> просмотр</div>\n",
       "<dl class=\"si_row\"><dt>Отправитель:</dt><dd><a href=\"/alexander.filatov\">Александр Филатов</a></dd></dl>\n",
       "<div class=\"vi_values\"><span class=\"item_date\">Добавлена 12 июля 2017</span></div>\n",
       "</div>\n",
       "<ul class=\"mv_actions\"></ul>\n",
       "</div>\n",
       "</div>\n",
       "<div class=\"comments_wrap bl_cont\"></div>\n",
       "</div></div>\n",
       "<div class=\"basis__footer mfoot\" id=\"mfoot\"><div class=\"pfoot\">\n",
       "<ul class=\"footer_menu\" id=\"footer_menu\">\n",
       "<li class=\"fm_row\"><a class=\"fm_item\" href=\"/\">На главную</a></li>\n",
       "<li class=\"fm_row\"><a class=\"fm_item fv_link\" href=\"/fv?to=%2Fvideo8733459_456239420%3F_fm%3D1%26_fm2%3D1\" id=\"fv_link\">Полная версия</a></li>\n",
       "</ul>\n",
       "</div></div>\n",
       "<div class=\"_cntrs\" style=\"height:0;overflow:hidden;\">\n",
       "<img align=\"left\" alt=\"\" height=\"1\" src=\"//counter.yadro.ru/hit?uhttps%3A%2F%2Fm.vk.com%2Fvideo8733459_456239420%3Flist%3Df21c71bdc2666dd07b%252Fpl_8733459_-2;r;12693541\" width=\"1\"/>\n",
       "<img align=\"left\" alt=\"\" height=\"1\" src=\"//sb.scorecardresearch.com/p?c1=2&amp;c2=13765216&amp;c3=&amp;c4=https%3A%2F%2Fm.vk.com%2Fvideo8733459_456239420%3Flist%3Df21c71bdc2666dd07b%252Fpl_8733459_-2&amp;c5=&amp;c9=&amp;c15=&amp;cv=2.0&amp;cj=1&amp;rn=12693541\" width=\"1\"/>\n",
       "<img height=\"1\" src=\"//top-fwz1.mail.ru/counter?id=2579437;pid=0;r=\" style=\"border:0;\" width=\"1\"/>\n",
       "</div>\n",
       "</div>\n",
       "</div>\n",
       "</div>\n",
       "</div>\n",
       "<script type=\"text/javascript\">\n",
       "<!--\n",
       "parent&&parent!=window&&(document.getElementsByTagName('body')[0].innerHTML='');window.store.stickers = {\"url_template\":\"https:\\/\\/vk.com\\/sticker\\/1-%id%-%size%-1\"};\n",
       "//-->\n",
       "</script>\n",
       "<div id=\"vk_utils\"></div>\n",
       "<div id=\"z\"></div>\n",
       "<div id=\"vk_bottom\"></div>\n",
       "<div id=\"theme_color_shim\"></div>\n",
       "</body>\n",
       "</html>"
      ]
     },
     "execution_count": 31,
     "metadata": {},
     "output_type": "execute_result"
    }
   ],
   "source": [
    "response=requests.get('https://m.vk.com/video8733459_456239420?list=f21c71bdc2666dd07b%2Fpl_8733459_-2')\n",
    "bs(response.text)\n"
   ]
  },
  {
   "cell_type": "code",
   "execution_count": 23,
   "metadata": {},
   "outputs": [
    {
     "data": {
      "text/plain": [
       "bs4.element.Tag"
      ]
     },
     "execution_count": 23,
     "metadata": {},
     "output_type": "execute_result"
    }
   ],
   "source": [
    "soup = bs('<b class=\"boldest\">Extremely bold</b>')\n",
    "tag = soup.b\n",
    "type(tag)"
   ]
  }
 ],
 "metadata": {
  "kernelspec": {
   "display_name": "Django Shell-Plus",
   "language": "python",
   "name": "django_extensions"
  },
  "language_info": {
   "codemirror_mode": {
    "name": "ipython",
    "version": 3
   },
   "file_extension": ".py",
   "mimetype": "text/x-python",
   "name": "python",
   "nbconvert_exporter": "python",
   "pygments_lexer": "ipython3",
   "version": "3.7.0"
  }
 },
 "nbformat": 4,
 "nbformat_minor": 2
}
