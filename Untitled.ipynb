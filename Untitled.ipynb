{
 "cells": [
  {
   "cell_type": "code",
   "execution_count": 2,
   "metadata": {},
   "outputs": [],
   "source": [
    "from base.models import Tag, Area, Url, Course"
   ]
  },
  {
   "cell_type": "code",
   "execution_count": 5,
   "metadata": {},
   "outputs": [],
   "source": [
    "tag=Tag.objects.get(id=2)"
   ]
  },
  {
   "cell_type": "code",
   "execution_count": 48,
   "metadata": {},
   "outputs": [
    {
     "data": {
      "text/plain": [
       "<QuerySet [<Area: Популярная математика>]>"
      ]
     },
     "execution_count": 48,
     "metadata": {},
     "output_type": "execute_result"
    }
   ],
   "source": [
    "item=Url.objects.first()\n",
    "item.areas.all()"
   ]
  },
  {
   "cell_type": "code",
   "execution_count": 58,
   "metadata": {},
   "outputs": [],
   "source": [
    "for item in Url.objects.filter(many_tag=tag):\n",
    "    course = Course()\n",
    "    course.save()\n",
    "    course.title=item.title\n",
    "    course.url=item.url\n",
    "    course.areas.set([x for x in item.areas.all()])\n",
    "    course.description = item.description\n",
    "    course.keywords = item.keywords\n",
    "    course.save()"
   ]
  },
  {
   "cell_type": "code",
   "execution_count": 60,
   "metadata": {},
   "outputs": [
    {
     "data": {
      "text/plain": [
       "<QuerySet [<Course: Диофантовы уравнения | Видеолекции Физтеха: Лекторий МФТИ - видеолекции по физике, математике, биологии, биоинформатике, информатике и другим дисциплинам>, <Course: Группы и геометрия>, <Course: Онлайн-курс от МФТИ и Алексея Савватеева: теория игр для любых аудиторий — МФТИ>, <Course: Открытое образование - Теория игр>, <Course: Открытое образование - Высшая математика. Линейная алгебра и элементы топологии>, <Course: Открытое образование - Математический анализ>, <Course: Математика для всех | Coursera>, <Course: Геометрия и группы | Coursera>, <Course: АЛЕКСЕЙ САВВАТЕЕВ \"МАТЕМАТИКА ДЛЯ ВСЕХ\". КРАТКИЙ КУРС ИЗ 6 ЛЕКЦИЙ>]>"
      ]
     },
     "execution_count": 60,
     "metadata": {},
     "output_type": "execute_result"
    }
   ],
   "source": [
    "Course.objects.all()"
   ]
  },
  {
   "cell_type": "code",
   "execution_count": 57,
   "metadata": {},
   "outputs": [
    {
     "data": {
      "text/plain": [
       "<QuerySet [<Area: Теория чисел>]>"
      ]
     },
     "execution_count": 57,
     "metadata": {},
     "output_type": "execute_result"
    }
   ],
   "source": [
    "a=Course.objects.first()\n",
    "a.areas.all()"
   ]
  },
  {
   "cell_type": "code",
   "execution_count": 51,
   "metadata": {
    "scrolled": false
   },
   "outputs": [],
   "source": [
    "for a in Course.objects.all():\n",
    "    a.delete()"
   ]
  }
 ],
 "metadata": {
  "kernelspec": {
   "display_name": "Django Shell-Plus",
   "language": "python",
   "name": "django_extensions"
  },
  "language_info": {
   "codemirror_mode": {
    "name": "ipython",
    "version": 3
   },
   "file_extension": ".py",
   "mimetype": "text/x-python",
   "name": "python",
   "nbconvert_exporter": "python",
   "pygments_lexer": "ipython3",
   "version": "3.7.0"
  }
 },
 "nbformat": 4,
 "nbformat_minor": 2
}
