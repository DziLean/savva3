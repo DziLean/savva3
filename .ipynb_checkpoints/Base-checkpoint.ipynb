{
 "cells": [
  {
   "cell_type": "code",
   "execution_count": 35,
   "metadata": {},
   "outputs": [],
   "source": [
    "from savva3.models import Setting"
   ]
  },
  {
   "cell_type": "code",
   "execution_count": 36,
   "metadata": {},
   "outputs": [],
   "source": [
    "a=Setting.objects.all()"
   ]
  },
  {
   "cell_type": "code",
   "execution_count": 37,
   "metadata": {},
   "outputs": [],
   "source": [
    "c={}\n",
    "for b in a:\n",
    "    c[b.key]=b.value"
   ]
  },
  {
   "cell_type": "code",
   "execution_count": null,
   "metadata": {},
   "outputs": [],
   "source": []
  },
  {
   "cell_type": "code",
   "execution_count": 61,
   "metadata": {},
   "outputs": [],
   "source": [
    "from base.models import *"
   ]
  },
  {
   "cell_type": "code",
   "execution_count": 59,
   "metadata": {},
   "outputs": [],
   "source": [
    "a=Url.objects.all()"
   ]
  },
  {
   "cell_type": "code",
   "execution_count": 63,
   "metadata": {},
   "outputs": [
    {
     "ename": "NameError",
     "evalue": "name 'Video' is not defined",
     "output_type": "error",
     "traceback": [
      "\u001b[0;31m---------------------------------------------------------------------------\u001b[0m",
      "\u001b[0;31mNameError\u001b[0m                                 Traceback (most recent call last)",
      "\u001b[0;32m<ipython-input-63-4910be543271>\u001b[0m in \u001b[0;36m<module>\u001b[0;34m\u001b[0m\n\u001b[0;32m----> 1\u001b[0;31m \u001b[0ma\u001b[0m\u001b[0;34m=\u001b[0m\u001b[0mVideo\u001b[0m\u001b[0;34m.\u001b[0m\u001b[0mobjects\u001b[0m\u001b[0;34m.\u001b[0m\u001b[0mall\u001b[0m\u001b[0;34m(\u001b[0m\u001b[0;34m)\u001b[0m\u001b[0;34m\u001b[0m\u001b[0m\n\u001b[0m",
      "\u001b[0;31mNameError\u001b[0m: name 'Video' is not defined"
     ]
    }
   ],
   "source": [
    "a=Video.objects.all()"
   ]
  },
  {
   "cell_type": "code",
   "execution_count": 57,
   "metadata": {},
   "outputs": [],
   "source": [
    "videos=a.filter(url__contains='watch')"
   ]
  },
  {
   "cell_type": "code",
   "execution_count": 58,
   "metadata": {},
   "outputs": [
    {
     "name": "stdout",
     "output_type": "stream",
     "text": [
      "http://youtube.com/watch?v=-GM3b5nnHwk\n",
      "http://youtube.com/watch?v=-K3N3RMF-Jo\n",
      "http://youtube.com/watch?v=7jvLCFLndzQ\n",
      "http://youtube.com/watch?v=BHWL49P8WT8\n",
      "http://youtube.com/watch?v=CQhk68HkJOM\n",
      "http://youtube.com/watch?v=JpSqIVdIxKg\n",
      "http://youtube.com/watch?v=TPM0M0ZFvWg\n",
      "http://youtube.com/watch?v=VByOzTAEtoY\n",
      "http://youtube.com/watch?v=WS7hJcO0IN0\n",
      "http://youtube.com/watch?v=XhwD9VO9eX8\n",
      "http://youtube.com/watch?v=fCIU07zg9HQ\n",
      "http://youtube.com/watch?v=jY31VbSgvWo\n",
      "http://youtube.com/watch?v=rY6dUN74SPk\n",
      "http://youtube.com/watch?v=slaH2Gu7Nn0\n",
      "http://youtube.com/watch?v=tpiDLOgX4WI\n",
      "http://youtube.com/watch?v=wl8Ssge5uQM\n",
      "http://youtube.com/watch?v=z-pZB6keBh0\n",
      "https://www.youtube.com/watch?v=gXT7X_Zkl3A\n",
      "https://www.youtube.com/watch?v=-4yutmWAOg4&feature=youtu.be\n",
      "https://www.youtube.com/watch?v=6fCoqeqme10\n",
      "https://www.youtube.com/watch?v=Byw49v8uAPo\n",
      "https://www.youtube.com/watch?v=I_JnVNIjKRY\n",
      "https://www.youtube.com/watch?v=KgMLzFaVKKo\n",
      "https://www.youtube.com/watch?v=V8pUnO-MwYc\n",
      "https://www.youtube.com/watch?v=X7kXWzHAn3s\n",
      "https://www.youtube.com/watch?v=aiH0IOWPNNI&feature=youtu.be\n",
      "https://www.youtube.com/watch?v=cHCTe6VYpHo\n",
      "https://www.youtube.com/watch?v=fG8Bek76ciY\n",
      "https://www.youtube.com/watch?v=guormRwUaYo&list=PLssa4ZIycgXI5zTXdYCQVxyUunawc\n",
      "https://www.youtube.com/watch?v=mQXTzSdWNHQ\n",
      "https://www.youtube.com/watch?v=sSYeVMXVhcc&feature=youtu.be\n",
      "https://www.youtube.com/watch?v=zl98apQm_ec&feature=youtu.be\n",
      "https://www.youtube.com/watch?v=9oC19XW20TQ\n",
      "https://www.youtube.com/watch?v=BHWL49P8WT8\n",
      "https://www.youtube.com/watch?v=OoKpduJylbM\n",
      "https://www.youtube.com/watch?v=-4yutmWAOg4\n",
      "https://www.youtube.com/watch?v=riF7GLRzg90\n",
      "https://www.youtube.com/watch?v=BdzJDXwlxEs\n",
      "https://www.youtube.com/watch?v=slaH2Gu7Nn0&t=2ss\n",
      "https://www.youtube.com/watch?v=H_al-G9gyX0\n",
      "https://www.youtube.com/watch?v=j2ZZou7AanI\n",
      "https://www.youtube.com/watch?v=qCLjmIosZ1w\n",
      "https://www.youtube.com/watch?v=Z5C0D8EzBLw\n",
      "https://www.youtube.com/watch?v=5qmmLA_CnGo\n",
      "https://www.youtube.com/watch?v=rQJMT9nbFhk\n",
      "https://www.youtube.com/watch?v=Qyq2ecUvwDk\n",
      "https://www.youtube.com/watch?v=G9DzE03A5Wg\n",
      "https://www.youtube.com/watch?v=VByOzTAEtoY\n",
      "https://www.youtube.com/watch?v=WC_ym98yi9g\n",
      "https://www.youtube.com/watch?v=FZ9bn7UAOQ0\n",
      "https://www.youtube.com/watch?v=P1fNGlsHebA\n",
      "https://www.youtube.com/watch?v=qPPD2YUwGnQ\n",
      "https://www.youtube.com/watch?v=hkhaipY3JmU\n",
      "https://www.youtube.com/watch?v=dQwuLW4XTvU\n",
      "https://www.youtube.com/watch?v=-K3N3RMF-Jo\n",
      "https://www.youtube.com/watch?v=QhmeprIej-s\n",
      "https://www.youtube.com/watch?v=RE5GLBex3zo\n",
      "https://www.youtube.com/watch?v=0MjfSCPjJHQ\n",
      "https://www.youtube.com/watch?v=NzE3K_PHJNw\n",
      "https://www.youtube.com/watch?v=jdfxeuSGe-8\n",
      "https://www.youtube.com/watch?v=slaH2Gu7Nn0&t=2s\n",
      "https://www.youtube.com/watch?v=Hf9MFBMxcls\n",
      "https://www.youtube.com/watch?v=208C8qnr9so\n",
      "https://www.youtube.com/watch?v=-yFBx6GDOY8\n",
      "https://www.youtube.com/watch?v=TPM0M0ZFvWg\n",
      "https://youtube.com/watch?v=TyJ50i95xCM\n",
      "https://www.youtube.com/watch?v=6c8DODy-HO0\n",
      "https://www.youtube.com/watch?v=_7zDdBPp5MU\n"
     ]
    }
   ],
   "source": [
    "for video in videos:\n",
    "    print(video.url)\n",
    "    Video"
   ]
  }
 ],
 "metadata": {
  "kernelspec": {
   "display_name": "Django Shell-Plus",
   "language": "python",
   "name": "django_extensions"
  },
  "language_info": {
   "codemirror_mode": {
    "name": "ipython",
    "version": 3
   },
   "file_extension": ".py",
   "mimetype": "text/x-python",
   "name": "python",
   "nbconvert_exporter": "python",
   "pygments_lexer": "ipython3",
   "version": "3.7.0"
  }
 },
 "nbformat": 4,
 "nbformat_minor": 2
}
