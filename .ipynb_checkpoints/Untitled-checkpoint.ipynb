{
 "cells": [
  {
   "cell_type": "code",
   "execution_count": 35,
   "metadata": {},
   "outputs": [],
   "source": [
    "from savva3.models import Setting"
   ]
  },
  {
   "cell_type": "code",
   "execution_count": 36,
   "metadata": {},
   "outputs": [],
   "source": [
    "a=Setting.objects.all()"
   ]
  },
  {
   "cell_type": "code",
   "execution_count": 37,
   "metadata": {},
   "outputs": [],
   "source": [
    "c={}\n",
    "for b in a:\n",
    "    c[b.key]=b.value"
   ]
  },
  {
   "cell_type": "code",
   "execution_count": null,
   "metadata": {},
   "outputs": [],
   "source": []
  },
  {
   "cell_type": "code",
   "execution_count": 40,
   "metadata": {},
   "outputs": [],
   "source": [
    "from base.models import *"
   ]
  },
  {
   "cell_type": "code",
   "execution_count": 46,
   "metadata": {},
   "outputs": [],
   "source": [
    "a=Url.objects.all()"
   ]
  },
  {
   "cell_type": "code",
   "execution_count": 49,
   "metadata": {},
   "outputs": [
    {
     "data": {
      "text/plain": [
       "<QuerySet [<Url: Алексей Савватеев и Андрей Леонидов. Сетевые математические модели интернета и межбанковских рынков - YouTube>, <Url: Доказательная геометрия. \"Яндекс-лекция\" Алексея Савватеева>, <Url: Цепные дроби - Савватеев А.В - YouTube>, <Url: А.В. Савватеев. Основные теоремы теории игр - YouTube>, <Url: Круглый стол  Тема 'Кризис' - YouTube>, <Url: Молодая экономика (А. Савватеев) - YouTube>, <Url: Савватеев А.В. - Задача о коллективной ответственности: от теории игр к теории управления - YouTube>, <Url: Результаты Жана Тироля (Алексей Савватеев, Яндекс, РЭШ, ЦЭМИ РАН, МФТИ, ИГУ) - YouTube>, <Url: Алексей Савватеев  Лекция Модели интернета - YouTube>, <Url: О нобелевских лауреатах, Савватеев в ИГУ - YouTube>, <Url: Теория аукционов. Наиболее значимые достижения. А. Савватеев - YouTube>, <Url: А. Савватеев в ИГТУ  Теория экономического равновесия - YouTube>, <Url: СОММЭС Савватеев А.В. Многомерная гипотеза Тьебу: Теорема существования равновесия - YouTube>, <Url: Алексей Савватеев. Великие математические революции. - YouTube>, <Url: Алексей Савватеев. Ординальная сравнительная статика - YouTube>, <Url: Алексей Савватеев. Цепные дроби и квадратичные иррациональности - YouTube>, <Url: Алексей Савватеев: \"Моделирование социальных сетей\">, <Url: Алексей Савватеев - YouTube>, <Url: А. В. Савватеева - Геометрия, арифметика и алгебра преобразований ч. 1/2>, <Url: 100 основных вопросов математики - YouTube>, '...(remaining elements truncated)...']>"
      ]
     },
     "execution_count": 49,
     "metadata": {},
     "output_type": "execute_result"
    }
   ],
   "source": [
    "a.filter(url__contains='youtube')"
   ]
  }
 ],
 "metadata": {
  "kernelspec": {
   "display_name": "Django Shell-Plus",
   "language": "python",
   "name": "django_extensions"
  },
  "language_info": {
   "codemirror_mode": {
    "name": "ipython",
    "version": 3
   },
   "file_extension": ".py",
   "mimetype": "text/x-python",
   "name": "python",
   "nbconvert_exporter": "python",
   "pygments_lexer": "ipython3",
   "version": "3.7.0"
  }
 },
 "nbformat": 4,
 "nbformat_minor": 2
}
